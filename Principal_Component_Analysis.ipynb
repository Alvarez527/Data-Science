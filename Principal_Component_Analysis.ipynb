{
 "cells": [
  {
   "cell_type": "markdown",
   "metadata": {
    "id": "zZeKeQlF-0tP"
   },
   "source": [
    "**Ciencia y analítica de datos**\n",
    "\n",
    "Carlos Álvarez\n",
    "\n",
    "\n",
    "Análisis de Componentes Principales (PCA)\n",
    "\n",
    "---"
   ]
  },
  {
   "cell_type": "code",
   "execution_count": 2,
   "metadata": {
    "colab": {
     "base_uri": "https://localhost:8080/",
     "height": 311
    },
    "executionInfo": {
     "elapsed": 11326,
     "status": "error",
     "timestamp": 1717291012140,
     "user": {
      "displayName": "Carlos Alvarez",
      "userId": "15555807712571237220"
     },
     "user_tz": 360
    },
    "id": "eEUfrlke1mWu",
    "outputId": "3321d39a-52c6-4590-c36b-b13acb1e704d"
   },
   "outputs": [
    {
     "ename": "MessageError",
     "evalue": "Error: credential propagation was unsuccessful",
     "output_type": "error",
     "traceback": [
      "\u001b[0;31m---------------------------------------------------------------------------\u001b[0m",
      "\u001b[0;31mMessageError\u001b[0m                              Traceback (most recent call last)",
      "\u001b[0;32m<ipython-input-2-d5df0069828e>\u001b[0m in \u001b[0;36m<cell line: 2>\u001b[0;34m()\u001b[0m\n\u001b[1;32m      1\u001b[0m \u001b[0;32mfrom\u001b[0m \u001b[0mgoogle\u001b[0m\u001b[0;34m.\u001b[0m\u001b[0mcolab\u001b[0m \u001b[0;32mimport\u001b[0m \u001b[0mdrive\u001b[0m\u001b[0;34m\u001b[0m\u001b[0;34m\u001b[0m\u001b[0m\n\u001b[0;32m----> 2\u001b[0;31m \u001b[0mdrive\u001b[0m\u001b[0;34m.\u001b[0m\u001b[0mmount\u001b[0m\u001b[0;34m(\u001b[0m\u001b[0;34m'/content/drive'\u001b[0m\u001b[0;34m)\u001b[0m\u001b[0;34m\u001b[0m\u001b[0;34m\u001b[0m\u001b[0m\n\u001b[0m",
      "\u001b[0;32m/usr/local/lib/python3.10/dist-packages/google/colab/drive.py\u001b[0m in \u001b[0;36mmount\u001b[0;34m(mountpoint, force_remount, timeout_ms, readonly)\u001b[0m\n\u001b[1;32m     98\u001b[0m \u001b[0;32mdef\u001b[0m \u001b[0mmount\u001b[0m\u001b[0;34m(\u001b[0m\u001b[0mmountpoint\u001b[0m\u001b[0;34m,\u001b[0m \u001b[0mforce_remount\u001b[0m\u001b[0;34m=\u001b[0m\u001b[0;32mFalse\u001b[0m\u001b[0;34m,\u001b[0m \u001b[0mtimeout_ms\u001b[0m\u001b[0;34m=\u001b[0m\u001b[0;36m120000\u001b[0m\u001b[0;34m,\u001b[0m \u001b[0mreadonly\u001b[0m\u001b[0;34m=\u001b[0m\u001b[0;32mFalse\u001b[0m\u001b[0;34m)\u001b[0m\u001b[0;34m:\u001b[0m\u001b[0;34m\u001b[0m\u001b[0;34m\u001b[0m\u001b[0m\n\u001b[1;32m     99\u001b[0m   \u001b[0;34m\"\"\"Mount your Google Drive at the specified mountpoint path.\"\"\"\u001b[0m\u001b[0;34m\u001b[0m\u001b[0;34m\u001b[0m\u001b[0m\n\u001b[0;32m--> 100\u001b[0;31m   return _mount(\n\u001b[0m\u001b[1;32m    101\u001b[0m       \u001b[0mmountpoint\u001b[0m\u001b[0;34m,\u001b[0m\u001b[0;34m\u001b[0m\u001b[0;34m\u001b[0m\u001b[0m\n\u001b[1;32m    102\u001b[0m       \u001b[0mforce_remount\u001b[0m\u001b[0;34m=\u001b[0m\u001b[0mforce_remount\u001b[0m\u001b[0;34m,\u001b[0m\u001b[0;34m\u001b[0m\u001b[0;34m\u001b[0m\u001b[0m\n",
      "\u001b[0;32m/usr/local/lib/python3.10/dist-packages/google/colab/drive.py\u001b[0m in \u001b[0;36m_mount\u001b[0;34m(mountpoint, force_remount, timeout_ms, ephemeral, readonly)\u001b[0m\n\u001b[1;32m    131\u001b[0m   )\n\u001b[1;32m    132\u001b[0m   \u001b[0;32mif\u001b[0m \u001b[0mephemeral\u001b[0m\u001b[0;34m:\u001b[0m\u001b[0;34m\u001b[0m\u001b[0;34m\u001b[0m\u001b[0m\n\u001b[0;32m--> 133\u001b[0;31m     _message.blocking_request(\n\u001b[0m\u001b[1;32m    134\u001b[0m         \u001b[0;34m'request_auth'\u001b[0m\u001b[0;34m,\u001b[0m\u001b[0;34m\u001b[0m\u001b[0;34m\u001b[0m\u001b[0m\n\u001b[1;32m    135\u001b[0m         \u001b[0mrequest\u001b[0m\u001b[0;34m=\u001b[0m\u001b[0;34m{\u001b[0m\u001b[0;34m'authType'\u001b[0m\u001b[0;34m:\u001b[0m \u001b[0;34m'dfs_ephemeral'\u001b[0m\u001b[0;34m}\u001b[0m\u001b[0;34m,\u001b[0m\u001b[0;34m\u001b[0m\u001b[0;34m\u001b[0m\u001b[0m\n",
      "\u001b[0;32m/usr/local/lib/python3.10/dist-packages/google/colab/_message.py\u001b[0m in \u001b[0;36mblocking_request\u001b[0;34m(request_type, request, timeout_sec, parent)\u001b[0m\n\u001b[1;32m    174\u001b[0m       \u001b[0mrequest_type\u001b[0m\u001b[0;34m,\u001b[0m \u001b[0mrequest\u001b[0m\u001b[0;34m,\u001b[0m \u001b[0mparent\u001b[0m\u001b[0;34m=\u001b[0m\u001b[0mparent\u001b[0m\u001b[0;34m,\u001b[0m \u001b[0mexpect_reply\u001b[0m\u001b[0;34m=\u001b[0m\u001b[0;32mTrue\u001b[0m\u001b[0;34m\u001b[0m\u001b[0;34m\u001b[0m\u001b[0m\n\u001b[1;32m    175\u001b[0m   )\n\u001b[0;32m--> 176\u001b[0;31m   \u001b[0;32mreturn\u001b[0m \u001b[0mread_reply_from_input\u001b[0m\u001b[0;34m(\u001b[0m\u001b[0mrequest_id\u001b[0m\u001b[0;34m,\u001b[0m \u001b[0mtimeout_sec\u001b[0m\u001b[0;34m)\u001b[0m\u001b[0;34m\u001b[0m\u001b[0;34m\u001b[0m\u001b[0m\n\u001b[0m",
      "\u001b[0;32m/usr/local/lib/python3.10/dist-packages/google/colab/_message.py\u001b[0m in \u001b[0;36mread_reply_from_input\u001b[0;34m(message_id, timeout_sec)\u001b[0m\n\u001b[1;32m    101\u001b[0m     ):\n\u001b[1;32m    102\u001b[0m       \u001b[0;32mif\u001b[0m \u001b[0;34m'error'\u001b[0m \u001b[0;32min\u001b[0m \u001b[0mreply\u001b[0m\u001b[0;34m:\u001b[0m\u001b[0;34m\u001b[0m\u001b[0;34m\u001b[0m\u001b[0m\n\u001b[0;32m--> 103\u001b[0;31m         \u001b[0;32mraise\u001b[0m \u001b[0mMessageError\u001b[0m\u001b[0;34m(\u001b[0m\u001b[0mreply\u001b[0m\u001b[0;34m[\u001b[0m\u001b[0;34m'error'\u001b[0m\u001b[0;34m]\u001b[0m\u001b[0;34m)\u001b[0m\u001b[0;34m\u001b[0m\u001b[0;34m\u001b[0m\u001b[0m\n\u001b[0m\u001b[1;32m    104\u001b[0m       \u001b[0;32mreturn\u001b[0m \u001b[0mreply\u001b[0m\u001b[0;34m.\u001b[0m\u001b[0mget\u001b[0m\u001b[0;34m(\u001b[0m\u001b[0;34m'data'\u001b[0m\u001b[0;34m,\u001b[0m \u001b[0;32mNone\u001b[0m\u001b[0;34m)\u001b[0m\u001b[0;34m\u001b[0m\u001b[0;34m\u001b[0m\u001b[0m\n\u001b[1;32m    105\u001b[0m \u001b[0;34m\u001b[0m\u001b[0m\n",
      "\u001b[0;31mMessageError\u001b[0m: Error: credential propagation was unsuccessful"
     ]
    }
   ],
   "source": [
    "from google.colab import drive\n",
    "drive.mount('/content/drive')"
   ]
  },
  {
   "cell_type": "code",
   "execution_count": null,
   "metadata": {
    "executionInfo": {
     "elapsed": 4,
     "status": "aborted",
     "timestamp": 1717291012140,
     "user": {
      "displayName": "Carlos Alvarez",
      "userId": "15555807712571237220"
     },
     "user_tz": 360
    },
    "id": "wMArpaFx_Mbd"
   },
   "outputs": [],
   "source": [
    "import pandas as pd\n",
    "import numpy as np\n",
    "import matplotlib.pyplot as plt\n",
    "import seaborn as sns\n",
    "import scipy.stats as stats"
   ]
  },
  {
   "cell_type": "code",
   "execution_count": null,
   "metadata": {
    "executionInfo": {
     "elapsed": 4,
     "status": "aborted",
     "timestamp": 1717291012140,
     "user": {
      "displayName": "Carlos Alvarez",
      "userId": "15555807712571237220"
     },
     "user_tz": 360
    },
    "id": "jenoVKNN_OhH"
   },
   "outputs": [],
   "source": [
    "cereals_df = pd.read_csv('/content/drive/MyDrive/Equipo 28 Ciencia y Analítica de Datos/Actividad 7 PCA/Cereals.csv', encoding=\"utf-8-sig\")\n",
    "cereals_df"
   ]
  },
  {
   "cell_type": "markdown",
   "metadata": {
    "id": "VYwGAFlVgYCp"
   },
   "source": [
    "# **Parte 1**. EDA y preprocesamiento"
   ]
  },
  {
   "cell_type": "markdown",
   "metadata": {
    "id": "OPfTGSQBgw5C"
   },
   "source": [
    "1. Obtén estadísticas descriptivas para todas las variables del dataframe."
   ]
  },
  {
   "cell_type": "code",
   "execution_count": null,
   "metadata": {
    "executionInfo": {
     "elapsed": 3,
     "status": "aborted",
     "timestamp": 1717291012140,
     "user": {
      "displayName": "Carlos Alvarez",
      "userId": "15555807712571237220"
     },
     "user_tz": 360
    },
    "id": "biGNuLM0wwlS"
   },
   "outputs": [],
   "source": [
    "# Considerar la variable shelf como variable categórica\n",
    "cereals_df[\"shelf\"] = cereals_df[\"shelf\"].astype(str)\n",
    "cereals_df[\"shelf\"]"
   ]
  },
  {
   "cell_type": "code",
   "execution_count": null,
   "metadata": {
    "executionInfo": {
     "elapsed": 3,
     "status": "aborted",
     "timestamp": 1717291012140,
     "user": {
      "displayName": "Carlos Alvarez",
      "userId": "15555807712571237220"
     },
     "user_tz": 360
    },
    "id": "7ZwiZy-V1KeT"
   },
   "outputs": [],
   "source": [
    "# Extraemos las columnas numéricas del df\n",
    "numeric_cols_names_list = [col  for col in cereals_df.columns if cereals_df[col].dtype in ['int64', 'float64']]\n",
    "# Extraemos las columnas NO numéricas del df\n",
    "non_numeric_cols_names_list = [col  for col in cereals_df.columns if cereals_df[col].dtype not in ['int64', 'float64']]\n",
    "print(f\"\"\"\n",
    "      El dataframe de cereales cuenta con:\n",
    "\n",
    "            * COLUMNAS: {list(cereals_df.columns)}\n",
    "            * TOTAL DE COLUMNAS: {len(cereals_df.columns)}\n",
    "\n",
    "      De las cuales:\n",
    "\n",
    "            * COLUMNAS NÚMERICAS: {numeric_cols_names_list}\n",
    "            * COLUMNAS NÚMERICAS #: {len(numeric_cols_names_list)}\n",
    "\n",
    "            * COLUMNAS NO NÚMERICAS: {non_numeric_cols_names_list}\n",
    "            * COLUMNAS NO NÚMERICAS #: {len(non_numeric_cols_names_list)}\n",
    "      \"\"\")"
   ]
  },
  {
   "cell_type": "code",
   "execution_count": null,
   "metadata": {
    "executionInfo": {
     "elapsed": 3,
     "status": "aborted",
     "timestamp": 1717291012140,
     "user": {
      "displayName": "Carlos Alvarez",
      "userId": "15555807712571237220"
     },
     "user_tz": 360
    },
    "id": "lwLgSIMt1KeU"
   },
   "outputs": [],
   "source": [
    "# Calculamos el % de valores nulos por columna\n",
    "nulls_df = pd.DataFrame((cereals_df.isna().sum() / cereals_df.shape[0]) * 100, columns=[\"Porcentaje de Valores Faltantes\"])\n",
    "nulls_df = nulls_df.join(pd.DataFrame(cereals_df.isna().sum(), columns=[\"Cantidad de Valores Faltantes\"]))\n",
    "nulls_df.sort_values(by=[\"Porcentaje de Valores Faltantes\"], ascending=False, inplace=True)\n",
    "nulls_df"
   ]
  },
  {
   "cell_type": "code",
   "execution_count": null,
   "metadata": {
    "executionInfo": {
     "elapsed": 4,
     "status": "aborted",
     "timestamp": 1717291012141,
     "user": {
      "displayName": "Carlos Alvarez",
      "userId": "15555807712571237220"
     },
     "user_tz": 360
    },
    "id": "OlY0TqSC1KeU"
   },
   "outputs": [],
   "source": [
    "# Como el método \"describe\" no calcula el coeficiente de asimetría (Skewness) ni el coeficiente de Kurtosis\n",
    "# Entonces los calculamos por separado\n",
    "\n",
    "# Calculamos el coeficiente de asimetría\n",
    "numeric_cols_skewness_coeff_df = pd.DataFrame(cereals_df[numeric_cols_names_list].skew(), columns=[\"skewness\"])\n",
    "\n",
    "# Calculamos el coeficiente de Kurtosis\n",
    "numeric_cols_kurtosis_coeff_df = pd.DataFrame(cereals_df[numeric_cols_names_list].kurtosis(), columns=[\"kurtosis\"])\n",
    "# Ahora ejecutamos un join/merge para unir ambos coeficiente en un df\n",
    "skewness_and_kurtosis_df = pd.merge(\n",
    "    left=numeric_cols_skewness_coeff_df,\n",
    "    right=numeric_cols_kurtosis_coeff_df,\n",
    "    right_index=True,\n",
    "    left_index=True\n",
    "    )\n",
    "# Ahora ejecutamos un join/merge para tener todas las estadisticas en una sola tabla\n",
    "all_statistics_df = pd.merge(\n",
    "    left=cereals_df.describe().T, # Tabla de estadísticas descriptivas comúnes\n",
    "    right=skewness_and_kurtosis_df,\n",
    "    right_index=True,\n",
    "    left_index=True\n",
    ")\n",
    "# Finalmente miramos las estadisticas de todas las variables numéricas\n",
    "all_statistics_df"
   ]
  },
  {
   "cell_type": "code",
   "execution_count": null,
   "metadata": {
    "executionInfo": {
     "elapsed": 4,
     "status": "aborted",
     "timestamp": 1717291012141,
     "user": {
      "displayName": "Carlos Alvarez",
      "userId": "15555807712571237220"
     },
     "user_tz": 360
    },
    "id": "07VOb9HMuAnx"
   },
   "outputs": [],
   "source": [
    "# Miramos las estadisticas de la variables no numéricas\n",
    "cereals_df.describe(include=\"object\").T"
   ]
  },
  {
   "cell_type": "markdown",
   "metadata": {
    "id": "tNciKJBChIJ4"
   },
   "source": [
    "Genera algunos gráficos para familiarizarte con el conjunto de datos. Al menos deberás incluir los que te permitan responder los siguientes cuestionamientos:\n",
    "\n",
    "**Nota.** Debes responder de manera explícita las preguntas, apoyándote de los resultados observados de cada gráfico.\n",
    "\n",
    "2a) ¿Cuál es la frecuencia o conteo de cada categoría para las variables: `mfr` y `shelf` (por separado)?\n",
    "\n",
    "Frecuencia de mfr (Fabricante):<br>\n",
    "La mayoría de los cereales son fabricados por:\n",
    "<br>K (Kellogg's)\n",
    "<br>G (General Mills)\n",
    "<br>P (Post)\n",
    "<br><br>Los fabricantes con menos productos en el conjunto de datos son:\n",
    "<br>A (American Home Food Products)\n",
    "<br>N (Nabisco)\n",
    "<br><br>Frecuencia de shelf (Estante):\n",
    "<br>La mayoría de los cereales se encuentran en el estante 3.\n",
    "<br>El estante 1 tiene la menor cantidad de cereales.\n",
    "<br>El estante 2 tiene una cantidad intermedia de cereales."
   ]
  },
  {
   "cell_type": "code",
   "execution_count": null,
   "metadata": {
    "executionInfo": {
     "elapsed": 4,
     "status": "aborted",
     "timestamp": 1717291012141,
     "user": {
      "displayName": "Carlos Alvarez",
      "userId": "15555807712571237220"
     },
     "user_tz": 360
    },
    "id": "ia7QO4MC1KeV"
   },
   "outputs": [],
   "source": [
    "for cat_var in [\"mfr\", \"shelf\"]:\n",
    "    plt.figure(figsize=(6, 3))\n",
    "    ax = sns.countplot(data=cereals_df, x=cat_var)\n",
    "    ax.tick_params(axis='x', labelsize=8)\n",
    "    ax.set_title(f\"Gráfico de barras para {cat_var}\")\n",
    "\n",
    "    for p in ax.patches:\n",
    "        ax.annotate(\n",
    "            f'{int(p.get_height())}',\n",
    "            (p.get_x() + p.get_width() / 2., p.get_height()),\n",
    "            ha='center',\n",
    "            va='center',\n",
    "            xytext=(0, 5),\n",
    "            textcoords='offset points',\n",
    "            fontsize=8\n",
    "        )\n",
    "\n",
    "    plt.show()"
   ]
  },
  {
   "cell_type": "markdown",
   "metadata": {
    "id": "BWsqaT90hajY"
   },
   "source": [
    "2b) Combina los resultados previos para observar, de cada fabricante, cuántos productos tiene en cada estante.\n",
    "\n",
    "* **Kellogg's (K)** tiene una distribución bastante equilibrada de productos en los\n",
    "tres estantes.<br>\n",
    "* **General Mills (G)** tiene la mayoría de sus productos en el estante 3, seguido del estante 2.<br>\n",
    "* **Post (P)** tiene más productos en el estante 3, con algunos productos en el estante 1 y 2.<br>\n",
    "* Otros fabricantes como **American Home Food Products (A)**, **Nabisco (N)** y **Quaker  Oats (Q)** tienen una presencia menor, pero sus productos están distribuidos en varios estantes."
   ]
  },
  {
   "cell_type": "code",
   "execution_count": null,
   "metadata": {
    "executionInfo": {
     "elapsed": 4,
     "status": "aborted",
     "timestamp": 1717291012141,
     "user": {
      "displayName": "Carlos Alvarez",
      "userId": "15555807712571237220"
     },
     "user_tz": 360
    },
    "id": "D8weqIO2oZKb"
   },
   "outputs": [],
   "source": [
    "# Gráfico de barras apiladas para observar de cada fabricante cuántos productos tiene en cada estante\n",
    "plt.figure(figsize=(14, 8))\n",
    "sns.countplot(x='mfr', hue='shelf', data=cereals_df)\n",
    "plt.title('Número de productos por fabricante y estante')\n",
    "plt.xlabel('Fabricante')\n",
    "plt.ylabel('Conteo')\n",
    "plt.legend(title='Estante')\n",
    "plt.show()"
   ]
  },
  {
   "cell_type": "markdown",
   "metadata": {
    "id": "R1iWDKvMhgSF"
   },
   "source": [
    " 3a) ¿Cuál es el rango más frecuente de la variable `rating`?\n",
    "\n",
    " Del histograma de la distribución de la variable rating, se observa que el rango más frecuente de las calificaciones se encuentra aproximadamente entre 30 y 50. Este es el intervalo donde la mayoría de los cereales tienen sus calificaciones."
   ]
  },
  {
   "cell_type": "code",
   "execution_count": null,
   "metadata": {
    "executionInfo": {
     "elapsed": 4,
     "status": "aborted",
     "timestamp": 1717291012141,
     "user": {
      "displayName": "Carlos Alvarez",
      "userId": "15555807712571237220"
     },
     "user_tz": 360
    },
    "id": "0h1U52UWoaSQ"
   },
   "outputs": [],
   "source": [
    "# Crear un histograma para observar la distribución de la variable 'rating'\n",
    "plt.figure(figsize=(10, 6))\n",
    "sns.histplot(cereals_df['rating'], bins=10, kde=True)\n",
    "plt.title('Distribución de la variable rating')\n",
    "plt.xlabel('Rating')\n",
    "plt.ylabel('Frecuencia')\n",
    "plt.show()"
   ]
  },
  {
   "cell_type": "markdown",
   "metadata": {
    "id": "dRw4LtNchnLD"
   },
   "source": [
    "3b) ¿Cuáles son los 10 cereales mejor evaluados y a qué fabricante corresponden?"
   ]
  },
  {
   "cell_type": "code",
   "execution_count": null,
   "metadata": {
    "executionInfo": {
     "elapsed": 4,
     "status": "aborted",
     "timestamp": 1717291012141,
     "user": {
      "displayName": "Carlos Alvarez",
      "userId": "15555807712571237220"
     },
     "user_tz": 360
    },
    "id": "dCM-6N_Vx4Jk"
   },
   "outputs": [],
   "source": [
    "# Obtener los 10 cereales mejor evaluados\n",
    "top_10_cereals = cereals_df.nlargest(10, 'rating')[['name', 'mfr', 'rating']].reset_index(drop=True)\n",
    "top_10_cereals"
   ]
  },
  {
   "cell_type": "markdown",
   "metadata": {
    "id": "A2wbLHYnhtsp"
   },
   "source": [
    "4a) Compara la distribución de las calorías según el fabricante, por medio de boxplots."
   ]
  },
  {
   "cell_type": "code",
   "execution_count": null,
   "metadata": {
    "executionInfo": {
     "elapsed": 11522,
     "status": "aborted",
     "timestamp": 1717291012141,
     "user": {
      "displayName": "Carlos Alvarez",
      "userId": "15555807712571237220"
     },
     "user_tz": 360
    },
    "id": "MvzEDeMUob8s"
   },
   "outputs": [],
   "source": [
    "boxplot_variables = [\"mfr\", \"calories\"]\n",
    "plt.figure(figsize=(8,4))\n",
    "sns.boxplot(x=boxplot_variables[1], y=boxplot_variables[0], data=cereals_df)\n",
    "plt.xlabel(boxplot_variables[1], fontsize=8)\n",
    "plt.ylabel(boxplot_variables[0], fontsize=8)\n",
    "plt.title(f'Boxplot\\n{boxplot_variables[1]} por {boxplot_variables[0]}', fontsize=10)\n",
    "plt.show()"
   ]
  },
  {
   "cell_type": "markdown",
   "metadata": {
    "id": "aGjfigtK3w8o"
   },
   "source": [
    "**Kellogg's (K)**: Presenta una distribución de calorías bastante estrecha, con la mayoría de los productos entre 100 y 110 calorías aproximadamente. Además, cuenta con outliers que llegan hasta las 160 calorias o las 50 aprox.\n",
    "<br>\n",
    "**General Mills (G)**: Tiene una mayor dispersión en la cantidad de calorías, abarcando desde aproximadamente 110 calorías. El tamaño del boxplot nos indica que hay pocos datos.\n",
    "<br>\n",
    "**Post (P)**: Tiene una amplia dispersión de calorías, desde 100 hasta 120. Denotamos la ausencia de outliers.\n",
    "<br>\n",
    "**Nabisco (N)**: Los productos están cerca de los 80 y 90 calorías.\n",
    "<br>\n",
    "**Quaker Oats (Q)**: Sus productos tienden a estar en un rango más amplio, con la mayoría de ellos entre 70 y 120 calorías.\n",
    "<br>\n",
    "**Mypo (A)**: Hay muy pocos datos lo que hace que el boxplot sea práctimante un solo dato.\n",
    "<br>\n",
    "**Chex (R)**: Podemos ver que la concentración de la calorias es relativamente más alta que para las otras marcas, con valores desde los 100 hasta los 130 calorias."
   ]
  },
  {
   "cell_type": "markdown",
   "metadata": {
    "id": "NywjiWzIhy9X"
   },
   "source": [
    "4b) ¿Cuáles son las dos variables que tienen mayor correlación con `rating`?\n",
    "\n",
    "Las dos variables con la correlación más \"alta\":\n",
    "* sugars: -0.76\n",
    "* calories: -0.69"
   ]
  },
  {
   "cell_type": "code",
   "execution_count": null,
   "metadata": {
    "executionInfo": {
     "elapsed": 11522,
     "status": "aborted",
     "timestamp": 1717291012141,
     "user": {
      "displayName": "Carlos Alvarez",
      "userId": "15555807712571237220"
     },
     "user_tz": 360
    },
    "id": "kRx_T6q21KeY"
   },
   "outputs": [],
   "source": [
    "corr_df = cereals_df[numeric_cols_names_list].corr()"
   ]
  },
  {
   "cell_type": "code",
   "execution_count": null,
   "metadata": {
    "executionInfo": {
     "elapsed": 11521,
     "status": "aborted",
     "timestamp": 1717291012141,
     "user": {
      "displayName": "Carlos Alvarez",
      "userId": "15555807712571237220"
     },
     "user_tz": 360
    },
    "id": "8f5avPbYoc3r"
   },
   "outputs": [],
   "source": [
    "# Para el tamaño del gráfico\n",
    "plt.figure(figsize=(10, 8))\n",
    "\n",
    "# Para crear un paleta de colores divergente\n",
    "cmap = sns.diverging_palette(240, 10, as_cmap=True)\n",
    "\n",
    "# Para le divergencia de los colores\n",
    "vmin = -1 # Para que la diveregencia de los colores esten en función de un valor mínimo\n",
    "vmax = 1 # Para que la diveregencia de los colores esten en función de un valor máximo\n",
    "\n",
    "# Generamos el gráfico\n",
    "sns.heatmap(corr_df,\n",
    "            cmap=cmap, # La paleta de coores diveregente\n",
    "            vmin=vmin, # El valor mínimo de diveregencia de color\n",
    "            vmax=vmax, # El valor máximo de diveregencia de color\n",
    "            xticklabels=corr_df.columns, # Las etiquetas del eje x\n",
    "            yticklabels=corr_df.columns,# Las etiquetas del eje y\n",
    "            center=0, annot=True, fmt=\".2f\", # Para añadir los valores a la matriz dibujada\n",
    "            )\n",
    "# Título del gráfico\n",
    "plt.title(f'Matriz de Correlación Cereals Dataset', fontsize=12)\n",
    "plt.show()\n",
    "\n",
    "#La correlación positiva mayor viene dada por los valores de fibra(0.58) y la mas negativa viene dada por el contenido de azucares(-0.76).\n"
   ]
  },
  {
   "cell_type": "markdown",
   "metadata": {
    "id": "itJ9anNUiTE5"
   },
   "source": [
    "5. Elimina todos los registros con algún dato faltante y reinicia el índice del dataframe para que quede con valores consecutivos."
   ]
  },
  {
   "cell_type": "code",
   "execution_count": null,
   "metadata": {
    "executionInfo": {
     "elapsed": 11520,
     "status": "aborted",
     "timestamp": 1717291012141,
     "user": {
      "displayName": "Carlos Alvarez",
      "userId": "15555807712571237220"
     },
     "user_tz": 360
    },
    "id": "_V__MFtiod9w"
   },
   "outputs": [],
   "source": [
    "cereals_df.dropna(inplace=True)"
   ]
  },
  {
   "cell_type": "code",
   "execution_count": null,
   "metadata": {
    "executionInfo": {
     "elapsed": 11520,
     "status": "aborted",
     "timestamp": 1717291012141,
     "user": {
      "displayName": "Carlos Alvarez",
      "userId": "15555807712571237220"
     },
     "user_tz": 360
    },
    "id": "gS-0pSH71KeZ"
   },
   "outputs": [],
   "source": [
    "cereals_df.reset_index(drop=True, inplace=True)"
   ]
  },
  {
   "cell_type": "markdown",
   "metadata": {
    "id": "S51rfjbMicoY"
   },
   "source": [
    "# **Parte 2**. Ingeniería de características"
   ]
  },
  {
   "cell_type": "markdown",
   "metadata": {
    "id": "-MQjqqisihp5"
   },
   "source": [
    "6. Considerando que `rating` es la variable de salida, almacénala en una variable `y` y separa los predictores **numéricos** en `X`. Escala los valores de `X` y aplica `PCA` para proyectar los datos en el nuevo espacio de vectores."
   ]
  },
  {
   "cell_type": "code",
   "execution_count": null,
   "metadata": {
    "executionInfo": {
     "elapsed": 11519,
     "status": "aborted",
     "timestamp": 1717291012141,
     "user": {
      "displayName": "Carlos Alvarez",
      "userId": "15555807712571237220"
     },
     "user_tz": 360
    },
    "id": "i3J4lTEpoe5I"
   },
   "outputs": [],
   "source": [
    "X = cereals_df[[x for x in numeric_cols_names_list if x != \"rating\"]]\n",
    "y = cereals_df[\"rating\"]"
   ]
  },
  {
   "cell_type": "code",
   "execution_count": null,
   "metadata": {
    "executionInfo": {
     "elapsed": 11519,
     "status": "aborted",
     "timestamp": 1717291012141,
     "user": {
      "displayName": "Carlos Alvarez",
      "userId": "15555807712571237220"
     },
     "user_tz": 360
    },
    "id": "DM9TaNhazCFT"
   },
   "outputs": [],
   "source": [
    "#Escalando los valores de X:\n",
    "#Primero se verifica que las distribuciones no esten sesgadas antes de proceder con el escalamiento.\n",
    "#Se guardan aquellas variables sesgadas en una lista para su posterior tratamiento.\n",
    "variables_sesgadas = []\n",
    "variables_no_sesgadas = []\n",
    "for i in all_statistics_df.index:\n",
    "  print(\"El valor de asimetria para la variable {} es de:    {}\".format(i, all_statistics_df.loc[i, \"skewness\"]))\n",
    "  if( (all_statistics_df.loc[i, \"skewness\"] > 1) | (all_statistics_df.loc[i, \"skewness\"] < -1)):\n",
    "    variables_sesgadas.append(i)\n",
    "  else:\n",
    "    variables_no_sesgadas.append(i)"
   ]
  },
  {
   "cell_type": "code",
   "execution_count": null,
   "metadata": {
    "executionInfo": {
     "elapsed": 11519,
     "status": "aborted",
     "timestamp": 1717291012142,
     "user": {
      "displayName": "Carlos Alvarez",
      "userId": "15555807712571237220"
     },
     "user_tz": 360
    },
    "id": "twfV20K0yp7B"
   },
   "outputs": [],
   "source": [
    "#Se comienza con la transformación o la normalización debido a que existen distribuciones asimetricas:\n",
    "from sklearn.preprocessing import PowerTransformer\n",
    "# Instanciamos el transformador\n",
    "transformer = PowerTransformer(method=\"yeo-johnson\", standardize=False)\n",
    "# Ajustamos el transformador\n",
    "transformer.fit(X[variables_sesgadas])\n",
    "#Se aplica la transformación Yeo-Johnson a variables sesgadas\n",
    "X_transf = pd.DataFrame(transformer.transform(X[variables_sesgadas]), columns= variables_sesgadas)\n",
    "X_transf"
   ]
  },
  {
   "cell_type": "code",
   "execution_count": null,
   "metadata": {
    "executionInfo": {
     "elapsed": 11519,
     "status": "aborted",
     "timestamp": 1717291012142,
     "user": {
      "displayName": "Carlos Alvarez",
      "userId": "15555807712571237220"
     },
     "user_tz": 360
    },
    "id": "WSgK66Fsypha"
   },
   "outputs": [],
   "source": [
    "#Se vuelve a unir el dataframe con las variables no sesgadas\n",
    "X_transf = X_transf.join(X[[x for x in variables_no_sesgadas if x != \"rating\"]])\n",
    "X_transf"
   ]
  },
  {
   "cell_type": "code",
   "execution_count": null,
   "metadata": {
    "executionInfo": {
     "elapsed": 11518,
     "status": "aborted",
     "timestamp": 1717291012142,
     "user": {
      "displayName": "Carlos Alvarez",
      "userId": "15555807712571237220"
     },
     "user_tz": 360
    },
    "id": "gBNFCsi_1Kea"
   },
   "outputs": [],
   "source": [
    "from sklearn.preprocessing import StandardScaler\n",
    "std_scaler = StandardScaler()\n",
    "X_scaled = std_scaler.fit_transform(X_transf)"
   ]
  },
  {
   "cell_type": "code",
   "execution_count": null,
   "metadata": {
    "executionInfo": {
     "elapsed": 0,
     "status": "aborted",
     "timestamp": 1717291012309,
     "user": {
      "displayName": "Carlos Alvarez",
      "userId": "15555807712571237220"
     },
     "user_tz": 360
    },
    "id": "u-9NiVZQ1Kea"
   },
   "outputs": [],
   "source": [
    "from sklearn.decomposition import PCA\n",
    "pca = PCA()\n",
    "X_projected = pca.fit_transform(X_scaled)\n",
    "X_projected = pd.DataFrame(X_projected)"
   ]
  },
  {
   "cell_type": "code",
   "execution_count": null,
   "metadata": {
    "executionInfo": {
     "elapsed": 1,
     "status": "aborted",
     "timestamp": 1717291012310,
     "user": {
      "displayName": "Carlos Alvarez",
      "userId": "15555807712571237220"
     },
     "user_tz": 360
    },
    "id": "PyRAY4tF1Keb"
   },
   "outputs": [],
   "source": [
    "X_projected"
   ]
  },
  {
   "cell_type": "markdown",
   "metadata": {
    "id": "cYeQ6zwSit8I"
   },
   "source": [
    "7. Obtén la curva del porcentaje de varianza acumulada y determine el número mínimo de componentes principales que explique más del 90% de la varianza. Imprime la información de dichos componentes.\n",
    "\n",
    "* El número mínimo de componentes para explicar más del 90% de la varianza es 6."
   ]
  },
  {
   "cell_type": "code",
   "execution_count": null,
   "metadata": {
    "executionInfo": {
     "elapsed": 1,
     "status": "aborted",
     "timestamp": 1717291012310,
     "user": {
      "displayName": "Carlos Alvarez",
      "userId": "15555807712571237220"
     },
     "user_tz": 360
    },
    "id": "96dOHL5N1Kec"
   },
   "outputs": [],
   "source": [
    "total_components = X.shape[1]"
   ]
  },
  {
   "cell_type": "code",
   "execution_count": null,
   "metadata": {
    "executionInfo": {
     "elapsed": 1,
     "status": "aborted",
     "timestamp": 1717291012310,
     "user": {
      "displayName": "Carlos Alvarez",
      "userId": "15555807712571237220"
     },
     "user_tz": 360
    },
    "id": "g0iOZsi7oiEK"
   },
   "outputs": [],
   "source": [
    "sns.set_style('white')\n",
    "\n",
    "plt.plot(np.cumsum(pca.explained_variance_ratio_)*100)\n",
    "plt.title('PCA Analysis')\n",
    "plt.xlabel('N-th Principal Component')\n",
    "plt.ylabel('% Cumulative Variance Explained')\n",
    "plt.xticks(np.arange(0,total_components,1))\n",
    "\n",
    "labels = np.cumsum(pca.explained_variance_ratio_)*100\n",
    "for i in range(total_components):\n",
    "  plt.text(i,labels[i],str(format(labels[i],'.0f'))+'%')"
   ]
  },
  {
   "cell_type": "code",
   "execution_count": null,
   "metadata": {
    "executionInfo": {
     "elapsed": 1,
     "status": "aborted",
     "timestamp": 1717291012310,
     "user": {
      "displayName": "Carlos Alvarez",
      "userId": "15555807712571237220"
     },
     "user_tz": 360
    },
    "id": "UcD3t-vH1Kec"
   },
   "outputs": [],
   "source": [
    "explained_cumulative_variance_array = np.cumsum(pca.explained_variance_ratio_)\n",
    "n_components = np.argwhere(explained_cumulative_variance_array > 0.90)[0][0] + 1\n",
    "n_components"
   ]
  },
  {
   "cell_type": "markdown",
   "metadata": {
    "id": "dmCLWDJwi3P2"
   },
   "source": [
    "8. ¿Cuáles son las tres variables más importantes en el cálculo del primer componente?\n",
    "\n",
    "* fat\n",
    "* protein\n",
    "* weight"
   ]
  },
  {
   "cell_type": "code",
   "execution_count": null,
   "metadata": {
    "executionInfo": {
     "elapsed": 1,
     "status": "aborted",
     "timestamp": 1717291012310,
     "user": {
      "displayName": "Carlos Alvarez",
      "userId": "15555807712571237220"
     },
     "user_tz": 360
    },
    "id": "04aKyOsM1Ked"
   },
   "outputs": [],
   "source": [
    "pc_df = pd.DataFrame(abs(pca.components_[:n_components]), columns = X.columns, index=['Principal component {}'.format(i) for i in range(1, n_components + 1)])"
   ]
  },
  {
   "cell_type": "code",
   "execution_count": null,
   "metadata": {
    "executionInfo": {
     "elapsed": 1,
     "status": "aborted",
     "timestamp": 1717291012310,
     "user": {
      "displayName": "Carlos Alvarez",
      "userId": "15555807712571237220"
     },
     "user_tz": 360
    },
    "id": "c3X8rCII1Kek"
   },
   "outputs": [],
   "source": [
    "pc_df_pc1 = pc_df.T[[\"Principal component 1\"]].sort_values(by=[\"Principal component 1\"], ascending=False)"
   ]
  },
  {
   "cell_type": "code",
   "execution_count": null,
   "metadata": {
    "executionInfo": {
     "elapsed": 1,
     "status": "aborted",
     "timestamp": 1717291012310,
     "user": {
      "displayName": "Carlos Alvarez",
      "userId": "15555807712571237220"
     },
     "user_tz": 360
    },
    "id": "EYv0ymgT1Kek"
   },
   "outputs": [],
   "source": [
    "ax = sns.barplot(\n",
    "    x=pc_df_pc1[\"Principal component 1\"],\n",
    "    y=pc_df_pc1.index,\n",
    "    hue=pc_df_pc1[\"Principal component 1\"],\n",
    "    palette=\"dark:blue_r\",\n",
    "    dodge=False,\n",
    "    legend=False\n",
    ")\n",
    "\n",
    "for index, value in enumerate(pc_df_pc1[\"Principal component 1\"]):\n",
    "    ax.text(value, index, f'{value:.2f}', color='black', ha=\"left\", va=\"center\", fontsize=8)\n",
    "\n",
    "plt.title(\"Importancia de caracteristicas para PC1\")\n",
    "plt.xlabel('Importancia')\n",
    "plt.ylabel('Caracteristicas')\n",
    "plt.xticks(rotation=90)\n",
    "plt.xticks(fontsize=8)\n",
    "plt.yticks(fontsize=8)\n",
    "plt.show()"
   ]
  },
  {
   "cell_type": "markdown",
   "metadata": {
    "id": "yIUm9oVPjw6Q"
   },
   "source": [
    "9. ¿Todas las variables categóricas son predictores? Aplica una técnica de encoding a las que sí lo sean. Justifica la elección de tu técnica.\n",
    "\n",
    "* Recordando el describe de las variables categóricas, descartamos las variables \"name\", \"type\" como variables predictoras por las siguientes razones:\n",
    "    * \"name\": Hay tantos registros únicos de name como renglones en el dataframe.\n",
    "    * \"type\": Hay solo dos categorías de esta variable, pero una de ellas cuenta con un solo registro en la tabla."
   ]
  },
  {
   "cell_type": "code",
   "execution_count": null,
   "metadata": {
    "executionInfo": {
     "elapsed": 11682,
     "status": "aborted",
     "timestamp": 1717291012310,
     "user": {
      "displayName": "Carlos Alvarez",
      "userId": "15555807712571237220"
     },
     "user_tz": 360
    },
    "id": "ge3by84Y1Kek"
   },
   "outputs": [],
   "source": [
    "# Conteo de valores únicos para las variables categóricas\n",
    "cereals_df.describe(include=\"object\").T"
   ]
  },
  {
   "cell_type": "code",
   "execution_count": null,
   "metadata": {
    "executionInfo": {
     "elapsed": 11682,
     "status": "aborted",
     "timestamp": 1717291012310,
     "user": {
      "displayName": "Carlos Alvarez",
      "userId": "15555807712571237220"
     },
     "user_tz": 360
    },
    "id": "0N94_36A1Kel"
   },
   "outputs": [],
   "source": [
    "# Hay solo 1 registro del tipo \"H\" en la variable \"type\"\n",
    "cereals_df[\"type\"].value_counts()"
   ]
  },
  {
   "cell_type": "code",
   "execution_count": null,
   "metadata": {
    "executionInfo": {
     "elapsed": 11681,
     "status": "aborted",
     "timestamp": 1717291012310,
     "user": {
      "displayName": "Carlos Alvarez",
      "userId": "15555807712571237220"
     },
     "user_tz": 360
    },
    "id": "sh1H74F41f5D"
   },
   "outputs": [],
   "source": [
    "#Realizando gráficas de plots para las variables categóricas incluyendo a shelf.\n",
    "fig, axes = plt.subplots(2,1, figsize=(10,8))\n",
    "axes = axes.ravel()\n",
    "for col, ax in zip(['mfr', 'shelf' ], axes):\n",
    "  sns.boxplot(data = cereals_df, y = cereals_df[col], x=cereals_df['rating'], ax=ax)\n",
    "  ax.set(title=f'{col}', xlabel=None)"
   ]
  },
  {
   "cell_type": "markdown",
   "metadata": {
    "id": "yVDUbXVZ1yLD"
   },
   "source": [
    "#Observando las gráficas de boxplot para\n",
    "  * mfr:\n",
    "    * Se observa que hay fabricantes que cubren todo el rango del conjunto de otros fabricantes como lo es Q.\n",
    "    * Sin embargo hay un rango que no es cubierto por Q y solo tiene N, de modo que cuando el fabricante es N\n",
    "    * existirá un cambio en el rating. Por lo que se considera a N como una variable predictora.\n",
    "\n",
    "  * shelf:\n",
    "    * Los rangos de 1 y 3 estan traslapados y son diferentes al rango de 2.\n",
    "    * Se puede considerar como predictora ya que si el numero de shelf es 2 el rango de rating estará por debajo de 40.\n",
    "\n"
   ]
  },
  {
   "cell_type": "code",
   "execution_count": null,
   "metadata": {
    "executionInfo": {
     "elapsed": 11681,
     "status": "aborted",
     "timestamp": 1717291012310,
     "user": {
      "displayName": "Carlos Alvarez",
      "userId": "15555807712571237220"
     },
     "user_tz": 360
    },
    "id": "GQW25N2B1Kel"
   },
   "outputs": [],
   "source": [
    "# Usamos OneHotEncoder para codificar la variable \"mfr\" pues esta variable es categórico NO ordinal\n",
    "from sklearn.preprocessing import OneHotEncoder"
   ]
  },
  {
   "cell_type": "code",
   "execution_count": null,
   "metadata": {
    "executionInfo": {
     "elapsed": 11680,
     "status": "aborted",
     "timestamp": 1717291012310,
     "user": {
      "displayName": "Carlos Alvarez",
      "userId": "15555807712571237220"
     },
     "user_tz": 360
    },
    "id": "1uEONoBv1Kel"
   },
   "outputs": [],
   "source": [
    "# Instanciamos el encoder\n",
    "onehot_encoder = OneHotEncoder(drop='first', sparse_output=False)\n",
    "# Ajustamos y transformamos los datos\n",
    "mfr_onehot_df = pd.DataFrame(onehot_encoder.fit_transform(cereals_df[[\"mfr\", \"shelf\"]]))\n",
    "mfr_onehot_df.columns = list(onehot_encoder.get_feature_names_out())"
   ]
  },
  {
   "cell_type": "markdown",
   "metadata": {
    "id": "kJU_vJExj2Lh"
   },
   "source": [
    "10. Conjunta, en un dataframe, las valores proyectados en los componentes seleccionados (mínimo), las transformaciones obtenidas de las variables categóricas que serán predictores y la variable de salida. Almacena el dataframe resultante en archivo."
   ]
  },
  {
   "cell_type": "code",
   "execution_count": null,
   "metadata": {
    "executionInfo": {
     "elapsed": 11680,
     "status": "aborted",
     "timestamp": 1717291012310,
     "user": {
      "displayName": "Carlos Alvarez",
      "userId": "15555807712571237220"
     },
     "user_tz": 360
    },
    "id": "DLcbTOUtolGR"
   },
   "outputs": [],
   "source": [
    "final_df = X_projected.iloc[:,0:n_components]\n",
    "final_df.columns = ['PC_{}'.format(i) for i in range(1, n_components + 1)]\n",
    "final_df = pd.concat([final_df, mfr_onehot_df, y], axis=1)\n",
    "final_df"
   ]
  },
  {
   "cell_type": "code",
   "execution_count": null,
   "metadata": {
    "id": "SbbyX9mc1Kem"
   },
   "outputs": [],
   "source": [
    "# Guardamos la tabla en un archivo csv\n",
    "final_df.to_csv('/content/drive/MyDrive/Equipo 28 Ciencia y Analítica de Datos/Actividad 7 PCA/cereals_afterPCA_Equipo28.csv', index=False, encoding=\"utf-8-sig\")"
   ]
  },
  {
   "cell_type": "code",
   "execution_count": null,
   "metadata": {
    "id": "FLHFJ9uf1Kem"
   },
   "outputs": [],
   "source": []
  }
 ],
 "metadata": {
  "colab": {
   "provenance": []
  },
  "kernelspec": {
   "display_name": "Python 3 (ipykernel)",
   "language": "python",
   "name": "python3"
  },
  "language_info": {
   "codemirror_mode": {
    "name": "ipython",
    "version": 3
   },
   "file_extension": ".py",
   "mimetype": "text/x-python",
   "name": "python",
   "nbconvert_exporter": "python",
   "pygments_lexer": "ipython3",
   "version": "3.11.3"
  }
 },
 "nbformat": 4,
 "nbformat_minor": 4
}
